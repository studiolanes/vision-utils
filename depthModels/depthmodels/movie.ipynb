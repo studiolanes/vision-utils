{
 "cells": [
  {
   "cell_type": "code",
   "execution_count": 1,
   "id": "163883ec-9fd7-429d-9d76-d22380a1656a",
   "metadata": {},
   "outputs": [
    {
     "name": "stderr",
     "output_type": "stream",
     "text": [
      "/opt/homebrew/lib/python3.10/site-packages/tqdm/auto.py:21: TqdmWarning: IProgress not found. Please update jupyter and ipywidgets. See https://ipywidgets.readthedocs.io/en/stable/user_install.html\n",
      "  from .autonotebook import tqdm as notebook_tqdm\n"
     ]
    }
   ],
   "source": [
    "from transformers import pipeline\n",
    "from PIL import Image, ImageChops\n",
    "import requests\n",
    "import numpy as np\n",
    "import scipy\n",
    "import cv2\n",
    "import os\n",
    "\n",
    "IMG_PATH =  os.path.expanduser(\"~/Desktop/profile.jpg\")"
   ]
  },
  {
   "cell_type": "code",
   "execution_count": 193,
   "id": "698f9273-fe56-457d-a939-73f3126a4a0e",
   "metadata": {},
   "outputs": [],
   "source": [
    "# load pipe\n",
    "pipe = pipeline(task=\"depth-estimation\", model=\"LiheYoung/depth-anything-large-hf\")\n",
    "\n",
    "# load image\n",
    "image = Image.open(IMG_PATH)\n",
    "\n",
    "# inference\n",
    "depth = pipe(image)[\"depth\"]\n",
    "depth.save(os.path.expanduser(\"~/Downloads/depth.jpg\"))"
   ]
  },
  {
   "cell_type": "code",
   "execution_count": 194,
   "id": "ba5c8916",
   "metadata": {},
   "outputs": [],
   "source": [
    "from moviepy.editor import ImageSequenceClip\n",
    "from IPython.display import display"
   ]
  },
  {
   "cell_type": "code",
   "execution_count": 44,
   "id": "320691f9-7aba-4032-9b97-755ddedb6d22",
   "metadata": {},
   "outputs": [],
   "source": [
    "def shift_image(img, depth_img, shift_amount=10):\n",
    "    # Ensure base image has alpha\n",
    "    img = img.convert(\"RGBA\")\n",
    "    data = np.array(img)\n",
    "\n",
    "    # Ensure depth image is grayscale (for single value)\n",
    "    depth_img = depth_img.convert(\"L\")\n",
    "    depth_data = np.array(depth_img)\n",
    "    deltas = np.array((depth_data / 255.0) * float(shift_amount), dtype=int)\n",
    "\n",
    "    # This creates the transprent resulting image.\n",
    "    # For now, we're dealing with pixel data.\n",
    "    shifted_data = np.zeros_like(data)\n",
    "\n",
    "    width = img.width\n",
    "    height = img.height\n",
    "\n",
    "    for y, row in enumerate(deltas):\n",
    "        width = len(row)\n",
    "        x = 0\n",
    "        while x < width:\n",
    "            dx = row[x]\n",
    "            if x+dx >= width:\n",
    "                break\n",
    "            if x-dx < 0:\n",
    "                shifted_data[y][x-dx] = [0,0,0,0]\n",
    "            else:\n",
    "                shifted_data[y][x-dx] = data[y][x]\n",
    "            x += 1\n",
    "\n",
    "    # Convert the pixel data to an image.\n",
    "    shifted_image = Image.fromarray(shifted_data)\n",
    "\n",
    "    alphas_image = Image.fromarray(scipy.ndimage.binary_fill_holes(ImageChops.invert(shifted_image.getchannel(\"A\")))).convert(\"1\")\n",
    "    shifted_image.putalpha(ImageChops.invert(alphas_image))\n",
    "    return shifted_image"
   ]
  },
  {
   "cell_type": "code",
   "execution_count": 188,
   "id": "b0143e81-44b6-4e7c-84ec-20848464affd",
   "metadata": {},
   "outputs": [],
   "source": [
    "def shift_and_inpaint(img, path, amount):\n",
    "    shifted = shift_image(img, depth, shift_amount=amount).save(path)\n",
    "    org_img = cv2.imread(filename=path)\n",
    "    damaged_img = cv2.imread(filename=path)\n",
    "    print(damaged_img.shape)\n",
    "    \n",
    "    # get the shape of the image\n",
    "    height, width = damaged_img.shape[0], damaged_img.shape[1]\n",
    "     \n",
    "    # Converting all pixels greater than zero to black while black becomes white\n",
    "    for i in range(height):\n",
    "        for j in range(width):\n",
    "            if damaged_img[i, j].sum() > 0:\n",
    "                damaged_img[i, j] = 0\n",
    "            else:\n",
    "                damaged_img[i, j] = [255, 255, 255]\n",
    "     \n",
    "    # saving the mask \n",
    "    mask = cv2.cvtColor(damaged_img, cv2.COLOR_BGR2GRAY)\n",
    "    dst = cv2.inpaint(org_img, mask, 3, cv2.INPAINT_NS)\n",
    "    return np.array(dst)"
   ]
  },
  {
   "cell_type": "code",
   "execution_count": 191,
   "id": "17b44656-6900-4fc0-b78f-c28a0898ed9a",
   "metadata": {},
   "outputs": [],
   "source": [
    "def create_stereoscopic_frame(image):\n",
    "    left_img = shift_and_inpaint(image, \"left.png\", 10)\n",
    "    right_img = shift_and_inpaint(image, \"right.png\", 50)\n",
    "    \n",
    "    height, width, channels = left_img.shape\n",
    "    \n",
    "    sbs_image = cv2.vconcat([left_img, right_img])  # Combine images side by side\n",
    "    sbs_image = cv2.cvtColor(sbs_image, cv2.COLOR_BGR2RGB)\n",
    "\n",
    "    # Create a video\n",
    "    fps = 30  # Frames per second\n",
    "    duration = 10  # Duration of the video in seconds\n",
    "    clip = ImageSequenceClip([sbs_image for _ in range(fps * duration)], fps=fps)\n",
    "\n",
    "     # Export the video\n",
    "    video_path = 'sbs_3d_video.mp4'\n",
    "    clip.write_videofile(video_path, codec='libx264', audio=False)"
   ]
  },
  {
   "cell_type": "code",
   "execution_count": 192,
   "id": "67b37c34",
   "metadata": {},
   "outputs": [
    {
     "name": "stdout",
     "output_type": "stream",
     "text": [
      "(2048, 1357, 3)\n",
      "(2048, 1357, 3)\n",
      "Moviepy - Building video sbs_3d_video.mp4.\n",
      "Moviepy - Writing video sbs_3d_video.mp4\n",
      "\n"
     ]
    },
    {
     "name": "stderr",
     "output_type": "stream",
     "text": [
      "                                                                                                                                                                                     \r"
     ]
    },
    {
     "name": "stdout",
     "output_type": "stream",
     "text": [
      "Moviepy - Done !\n",
      "Moviepy - video ready sbs_3d_video.mp4\n"
     ]
    }
   ],
   "source": [
    "create_stereoscopic_frame(image)\n",
    "# display(image)"
   ]
  },
  {
   "cell_type": "code",
   "execution_count": null,
   "id": "1e6667ae",
   "metadata": {},
   "outputs": [],
   "source": []
  },
  {
   "cell_type": "code",
   "execution_count": null,
   "id": "23fa8b4c",
   "metadata": {},
   "outputs": [],
   "source": []
  }
 ],
 "metadata": {
  "kernelspec": {
   "display_name": "Python 3 (ipykernel)",
   "language": "python",
   "name": "python3"
  },
  "language_info": {
   "codemirror_mode": {
    "name": "ipython",
    "version": 3
   },
   "file_extension": ".py",
   "mimetype": "text/x-python",
   "name": "python",
   "nbconvert_exporter": "python",
   "pygments_lexer": "ipython3",
   "version": "3.10.13"
  }
 },
 "nbformat": 4,
 "nbformat_minor": 5
}
